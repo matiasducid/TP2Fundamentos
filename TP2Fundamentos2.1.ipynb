{
 "cells": [
  {
   "cell_type": "code",
   "execution_count": 1,
   "metadata": {
    "collapsed": true
   },
   "outputs": [],
   "source": [
    "#zona imports.\n",
    "import re\n",
    "from graphviz import Digraph\n",
    "import networkx as nx\n",
    "from scipy import stats\n",
    "from scipy.stats import rv_discrete\n",
    "import matplotlib.pyplot as plt"
   ]
  },
  {
   "cell_type": "code",
   "execution_count": 2,
   "metadata": {
    "collapsed": true
   },
   "outputs": [],
   "source": [
    "terminales = [\"u\",\"a\",\"g\",\"i\",\"j\",\"k\",\"b\",\"c\",\"d\",\"e\",\"f\"]#AGREGAR PARA NUEVAS PRODUCCIONES"
   ]
  },
  {
   "cell_type": "code",
   "execution_count": 3,
   "metadata": {
    "collapsed": true
   },
   "outputs": [],
   "source": [
    "no_terminales = [\"W\",\"X\",\"Y\",\"Z\",\"A\",\"C\"] #AGREGAR PARA NUEVAS PRODUCCIONES"
   ]
  },
  {
   "cell_type": "code",
   "execution_count": 4,
   "metadata": {},
   "outputs": [],
   "source": [
    "#AGREGAR PARA NUEVAS PRODUCCIONES\n",
    "\n",
    "x0 = [0,1]\n",
    "x1 = [0,1]\n",
    "x2 = [0,1]\n",
    "x3 = [0,1]\n",
    "x4 = [0,1]\n",
    "x5 = [0,1]\n",
    "x6 = [0,1]\n",
    "x7 = [0,1]\n",
    "\n",
    "p0 = (1.0,0)\n",
    "p1 = (1.0,0)\n",
    "p2 = (0.7,0.3) \n",
    "p3 = (0.2,0.8)\n",
    "p4 = (0.5,0.5)\n",
    "p5 = (0.6,0.4)\n",
    "p6 = (1.0,0)\n",
    "p7 = (1.0,0)\n",
    "\n",
    "\n",
    "prod1 = {\n",
    "    \"S\" : [[\"W\"],rv_discrete(\"W\",values=([x0,p0]))],\n",
    "    \"W\" : [[\"uX\"],rv_discrete(\"uX\",values = ([x1,p1]))],\n",
    "    \"X\" : [[\"aY\",\"cZ\"],rv_discrete(\"prodX\",values = ([x2,p2]))],\n",
    "    \"Y\" : [[\"a\",\"b\"],rv_discrete(\"prodY\",values = ([x3,p3]))],\n",
    "    \"Z\" : [[\"gAB\",\"dg\"],rv_discrete(\"prodZ\",values = ([x4,p4]))],\n",
    "    \"A\" : [[\"ijk\",\"kiC\"],rv_discrete(\"prodA\",values = ([x5,p5]))],\n",
    "    \"B\" : [[\"eB\"],rv_discrete(\"prodB\",values = ([x6,p6]))],\n",
    "    \"C\" : [[\"fA\"],rv_discrete(\"prodC\",values = ([x7,p7]))]\n",
    "    \n",
    "}"
   ]
  },
  {
   "cell_type": "code",
   "execution_count": 5,
   "metadata": {
    "collapsed": true
   },
   "outputs": [],
   "source": [
    "primer_prod = \"S\""
   ]
  },
  {
   "cell_type": "code",
   "execution_count": 6,
   "metadata": {
    "collapsed": true
   },
   "outputs": [],
   "source": [
    "#####\n",
    "#####\n",
    "#####\n",
    "##Dar inicio a las producciones.\n",
    "##Ellas deberian poder saber cuando llamar la recursividad por pipe o por no terminal.\n",
    "#####\n",
    "#####\n",
    "#####\n",
    "def producir_recur1(iteracion,G,dot):#NUEVA\n",
    "    \n",
    "    sig_prod = prod1[primer_prod]\n",
    "    producir(sig_prod[0],primer_prod,G,dot,iteracion)\n",
    "\n",
    "   "
   ]
  },
  {
   "cell_type": "code",
   "execution_count": 7,
   "metadata": {
    "collapsed": true
   },
   "outputs": [],
   "source": [
    "def generar_graph(lista):\n",
    "    G=nx.Graph()\n",
    "    G.add_nodes_from([\"W\",\"u\",\"X\",\"g\",\"Z\",\"a\"])\n",
    "\n",
    "    G.add_edges_from([(\"W\",\"u\"),(\"W\",\"X\"),(\"X\",\"g\"), (\"X\",\"Z\"),(\"Z\",\"a\")])\n",
    "\n",
    "    nx.draw_networkx(G)\n",
    "    plt.show() # display"
   ]
  },
  {
   "cell_type": "code",
   "execution_count": 8,
   "metadata": {
    "collapsed": true
   },
   "outputs": [],
   "source": [
    "def producir(producciones, produccion_origen,G,dot, iteraciones):##NUEVA\n",
    "    plt.show()\n",
    "    ''' Caso Base profundidad alcanzada '''\n",
    "    if iteraciones == 0:\n",
    "        print(\"Corto por limite de  iteracion\")\n",
    "        return\n",
    "    \n",
    "    ''' Caso Base '''\n",
    "    for p in producciones:\n",
    "        \n",
    "        dot.node(p,p)\n",
    "        dot.edge(produccion_origen, p, constraint='false')\n",
    "        \n",
    "        G.add_node(p)\n",
    "        G.add_edge(p,produccion_origen)\n",
    "       \n",
    "        if (p not in terminales):\n",
    "            print(\"dibujar no Terminal {}\".format(p))\n",
    "                \n",
    "            valores = prod1.get(p)#Obtengo los valores posibles de la produccion.\n",
    "            prob_result = valores[1].rvs()#Obtengo un int que es el indice de las prob values posibles.\n",
    "            prob_posib = valores[0]#Obtengo las posibles producciones de esta produccion\n",
    "            produc = prob_posib[prob_result]#Obtengo la probabilidad desde la posibilidad dada.\n",
    "            \n",
    "            producir(produc,p,G,dot,iteraciones-1)\n",
    "        else:\n",
    "            ''' Caso Base Terminal '''\n",
    "\n",
    "            print(\"dibujar Terminal ({})\".format(p))"
   ]
  },
  {
   "cell_type": "code",
   "execution_count": 9,
   "metadata": {
    "collapsed": true
   },
   "outputs": [],
   "source": [
    "#####\n",
    "#####\n",
    "def prod_prod_rec1(tope,ite):\n",
    "    a = 0\n",
    "    dot = Digraph(comment='Tree')\n",
    "    G=nx.Graph()\n",
    "    while a<tope:\n",
    "        print(\"PRODUCCION \",a)\n",
    "        producir_recur1(ite,G,dot)\n",
    "\n",
    "        dot.render('test-output/round-table.gv', view=True) \n",
    "        nx.draw_networkx(G)\n",
    "        plt.show() # display\n",
    "\n",
    "        a = a+1"
   ]
  },
  {
   "cell_type": "code",
   "execution_count": 10,
   "metadata": {},
   "outputs": [
    {
     "name": "stdout",
     "output_type": "stream",
     "text": [
      "PRODUCCION  0\n",
      "dibujar no Terminal W\n",
      "dibujar Terminal (u)\n",
      "dibujar no Terminal X\n",
      "dibujar Terminal (a)\n",
      "dibujar no Terminal Y\n",
      "dibujar Terminal (b)\n"
     ]
    },
    {
     "data": {
      "image/png": "[encoded data removed]",
      "text/plain": [
       "<matplotlib.figure.Figure at 0x7f8e4f9dcc18>"
      ]
     },
     "metadata": {},
     "output_type": "display_data"
    }
   ],
   "source": [
    "prod_prod_rec1(1,10)"
   ]
  },
  {
   "cell_type": "code",
   "execution_count": null,
   "metadata": {
    "collapsed": true
   },
   "outputs": [],
   "source": []
  }
 ],
 "metadata": {
  "kernelspec": {
   "display_name": "Python 3",
   "language": "python",
   "name": "python3"
  },
  "language_info": {
   "codemirror_mode": {
    "name": "ipython",
    "version": 3
   },
   "file_extension": ".py",
   "mimetype": "text/x-python",
   "name": "python",
   "nbconvert_exporter": "python",
   "pygments_lexer": "ipython3",
   "version": "3.6.1"
  }
 },
 "nbformat": 4,
 "nbformat_minor": 2
}
