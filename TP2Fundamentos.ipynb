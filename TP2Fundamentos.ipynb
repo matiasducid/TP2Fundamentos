{
 "cells": [
  {
   "cell_type": "code",
   "execution_count": 9,
   "metadata": {
    "collapsed": true
   },
   "outputs": [],
   "source": [
    "#zona imports.\n",
    "#import numpy as np\n",
    "import re\n",
    "from scipy import stats\n",
    "from scipy.stats import rv_discrete"
   ]
  },
  {
   "cell_type": "code",
   "execution_count": 11,
   "metadata": {},
   "outputs": [],
   "source": [
    "#Defino mi diccionario(La GLC)\n",
    "diccionario = {\n",
    "    \"<s>::=<c1>\" : 1 ,\n",
    "    \"<c1>::=<Uc2>\" : 2 ,\n",
    "    \"<c2>::=<Ac3>\" : 3 ,\n",
    "    \"<c2>::=<Gc4>\" : 4 ,\n",
    "    \"<c3>::A\" : 5 ,\n",
    "    \"<c3>::G\" : 6 ,\n",
    "    \"<c4>::=A\" : 7\n",
    "    }\n",
    "#for key in diccionario:\n",
    "#    print (key)\n",
    "#print(\"_____________\")\n",
    "#for value in diccionario.values():\n",
    "#    print (value)\n",
    "#d_dic = diccionario[\"<s>::=<c1>\"]\n",
    "#print(d_dic)"
   ]
  },
  {
   "cell_type": "code",
   "execution_count": 12,
   "metadata": {},
   "outputs": [
    {
     "name": "stdout",
     "output_type": "stream",
     "text": [
      "GLCP Utilizada: {'<s>::=<c1>': 1, '<c1>::=<Uc2>': 2, '<c2>::=<Ac3>': 3, '<c2>::=<Gc4>': 4, '<c3>::A': 5, '<c3>::G': 6, '<c4>::=A': 7}\n",
      "\n",
      "\n",
      "\n",
      "¿Cuantas iteraciones quiere realizar?\n",
      "8\n"
     ]
    }
   ],
   "source": [
    "#Obtengo un Número \n",
    "print ('GLCP Utilizada:',diccionario)\n",
    "\n",
    "print ()\n",
    "print ()\n",
    "print ()\n",
    "print('¿Cuantas iteraciones quiere realizar?')\n",
    "i = input()\n",
    "if not i.isnumeric():\n",
    "        while not i.isnumeric():#Solo acepto numeros >=0 para cantidad de Producciones.\n",
    "            print(\"*****Solo se permiten Numeros(>0) en esta instancia.*****\")\n",
    "            print(\"¿Cuantas iteraciones queire realizar?\")\n",
    "            i = input()\n",
    "i = int(i)\n"
   ]
  },
  {
   "cell_type": "code",
   "execution_count": 13,
   "metadata": {},
   "outputs": [
    {
     "name": "stdout",
     "output_type": "stream",
     "text": [
      "Prodiccion: 1 ['U', 'G', 'A']\n",
      "Prodiccion: 2 ['U', 'A', 'G']\n",
      "Prodiccion: 3 ['U', 'A', 'G']\n",
      "Prodiccion: 4 ['U', 'A', 'A']\n",
      "Prodiccion: 5 ['U', 'A', 'G']\n",
      "Prodiccion: 6 ['U', 'G', 'A']\n",
      "Prodiccion: 7 ['U', 'G', 'A']\n",
      "Prodiccion: 8 ['U', 'G', 'A']\n"
     ]
    }
   ],
   "source": [
    "#x0 = np.arange(2)\n",
    "x0 =[3,4]\n",
    "p0 = (0.7,0.3) \n",
    "\n",
    "x1 = [5,6]\n",
    "p1 = (0.2,0.8)\n",
    "\n",
    "j = 0\n",
    "#\n",
    "#Implementar esto sin los if, usando ER.\n",
    "while j < i:\n",
    "    lista = ['1']#Hardcodeo este uno para que arranque bien.\n",
    "    if lista[0]== '1':\n",
    "        lista[0] = '2'\n",
    "\n",
    "    if lista[0] == '2':\n",
    "        lista[0] = 'U'#pongo la U que va antes del \"c2\"\n",
    "        posib0 = rv_discrete(name ='posib0', values =(x0,p0) )#Obtengo le obj que me da cual de las posib utilizo.\n",
    "        aux1 = posib0.rvs()\n",
    "        if aux1 == 3:\n",
    "            lista.append('3')\n",
    "        elif aux1 == 4 :\n",
    "            lista.append('4')        \n",
    "    if lista[0] == 'U':\n",
    "        posib1 = rv_discrete(name ='posib0', values =(x1,p1) )\n",
    "        aux2 = posib1.rvs()\n",
    "        if lista[1] == '3':\n",
    "            lista[1] = 'A'\n",
    "            if aux2 == 5 :\n",
    "                lista.append('5')\n",
    "            elif aux2 == 6 :\n",
    "                lista.append('6')\n",
    "            if lista[2] == '5':\n",
    "                lista [2] = 'A'\n",
    "            else:\n",
    "                lista[2] = 'G'\n",
    "        else :\n",
    "            lista[1] = 'G'\n",
    "            lista.append('A')\n",
    "    if lista[0] == 'U':\n",
    "        if lista[1] == 'A':\n",
    "            if lista[2] == '5':\n",
    "                lista.append('A')\n",
    "            elif lista[2] == '6':\n",
    "                lista.append('G')\n",
    "            elif lista[2] == '7':\n",
    "                lista.append('A')\n",
    "    j=j+1\n",
    "    \n",
    "    print(\"Prodiccion:\",j,lista) "
   ]
  },
  {
   "cell_type": "code",
   "execution_count": 6,
   "metadata": {},
   "outputs": [
    {
     "name": "stdout",
     "output_type": "stream",
     "text": [
      "{'<s>::=<c1>': 1, '<c1>::=<Uc2>': 2, '<c2>::=<Ac3>': 3, '<c2>::=<Gc4>': 4, '<c3>::A': 5, '<c3>::G': 6, '<c4>::=A': 7}\n"
     ]
    }
   ],
   "source": [
    "print(diccionario)"
   ]
  },
  {
   "cell_type": "code",
   "execution_count": 7,
   "metadata": {},
   "outputs": [
    {
     "name": "stdout",
     "output_type": "stream",
     "text": [
      "<scipy.stats._distn_infrastructure.rv_sample object at 0x7f345cde5cc0>\n"
     ]
    }
   ],
   "source": [
    "print (posib0)"
   ]
  },
  {
   "cell_type": "code",
   "execution_count": 14,
   "metadata": {},
   "outputs": [
    {
     "ename": "SyntaxError",
     "evalue": "invalid syntax (<ipython-input-14-865f17a0dee9>, line 1)",
     "output_type": "error",
     "traceback": [
      "\u001b[0;36m  File \u001b[0;32m\"<ipython-input-14-865f17a0dee9>\"\u001b[0;36m, line \u001b[0;32m1\u001b[0m\n\u001b[0;31m    def limpiarLista(list lista):\u001b[0m\n\u001b[0m                              ^\u001b[0m\n\u001b[0;31mSyntaxError\u001b[0m\u001b[0;31m:\u001b[0m invalid syntax\n"
     ]
    }
   ],
   "source": [
    "def limpiarLista(list lista):\n",
    "    for a in lista:\n",
    "        lista.remove()\n",
    "    \n"
   ]
  },
  {
   "cell_type": "code",
   "execution_count": 15,
   "metadata": {
    "collapsed": true
   },
   "outputs": [],
   "source": []
  },
  {
   "cell_type": "code",
   "execution_count": null,
   "metadata": {
    "collapsed": true
   },
   "outputs": [],
   "source": []
  }
 ],
 "metadata": {
  "kernelspec": {
   "display_name": "Python 3",
   "language": "python",
   "name": "python3"
  },
  "language_info": {
   "codemirror_mode": {
    "name": "ipython",
    "version": 3
   },
   "file_extension": ".py",
   "mimetype": "text/x-python",
   "name": "python",
   "nbconvert_exporter": "python",
   "pygments_lexer": "ipython3",
   "version": "3.6.1"
  }
 },
 "nbformat": 4,
 "nbformat_minor": 2
}
