{
 "cells": [
  {
   "cell_type": "code",
   "execution_count": 987,
   "metadata": {
    "collapsed": true
   },
   "outputs": [],
   "source": [
    "#zona imports.\n",
    "#import numpy as np\n",
    "import re\n",
    "from scipy import stats\n",
    "from scipy.stats import rv_discrete"
   ]
  },
  {
   "cell_type": "code",
   "execution_count": 988,
   "metadata": {},
   "outputs": [],
   "source": [
    "er_pipe = re.compile('\\w+\\|\\w+')\n",
    "#er_pipe2 = re.compile('^w*|w*$')\n",
    "#erW = re.compile('a|g')\n",
    "erX = re.compile('\\w*X')\n",
    "erY = re.compile('\\w*Y')\n",
    "erZ = re.compile('\\w*\\|\\w*')\n"
   ]
  },
  {
   "cell_type": "code",
   "execution_count": 989,
   "metadata": {
    "collapsed": true
   },
   "outputs": [],
   "source": [
    "terminales = [\"u\",\"a\",\"g\"]\n"
   ]
  },
  {
   "cell_type": "code",
   "execution_count": 990,
   "metadata": {},
   "outputs": [
    {
     "name": "stdout",
     "output_type": "stream",
     "text": [
      "<_sre.SRE_Match object; span=(0, 4), match='abcX'>\n"
     ]
    }
   ],
   "source": [
    "\n",
    "print(erX.match('abcXx'))"
   ]
  },
  {
   "cell_type": "code",
   "execution_count": 991,
   "metadata": {
    "collapsed": true
   },
   "outputs": [],
   "source": [
    "no_terminales =    [\"W\",\"X\",\"Y\",\"Z\"] "
   ]
  },
  {
   "cell_type": "code",
   "execution_count": 992,
   "metadata": {
    "collapsed": true
   },
   "outputs": [],
   "source": [
    "prod = {\n",
    "    \"S\" : \"W\",\n",
    "    \"W\" : \"uX\",\n",
    "    \"X\" : \"aY|gZ\",\n",
    "    \"Y\" : \"a|g\",\n",
    "    \"Z\" : \"a\"\n",
    "}"
   ]
  },
  {
   "cell_type": "code",
   "execution_count": 993,
   "metadata": {
    "collapsed": true
   },
   "outputs": [],
   "source": [
    "primer_prod = \"S\""
   ]
  },
  {
   "cell_type": "code",
   "execution_count": 994,
   "metadata": {
    "collapsed": true
   },
   "outputs": [],
   "source": [
    "xX =[0,1]\n",
    "pX = (0.7,0.3) \n",
    "\n",
    "xY = [0,1]\n",
    "pY = (0.2,0.8)"
   ]
  },
  {
   "cell_type": "code",
   "execution_count": 995,
   "metadata": {
    "collapsed": true
   },
   "outputs": [],
   "source": [
    "def calcularProbs(entrada):#Calcula las probabilidades de X o Y segun el argumento dado\n",
    "    if entrada == 1:\n",
    "        posibX = rv_discrete(name = 'X', values=([xX,pX]))\n",
    "        return posibX\n",
    "    elif entrada == 2:\n",
    "        posibY = rv_discrete(name = 'Y', values=([xY,pY]))\n",
    "        return posibY\n",
    "    "
   ]
  },
  {
   "cell_type": "code",
   "execution_count": 996,
   "metadata": {
    "collapsed": true
   },
   "outputs": [],
   "source": [
    "def prod_random_X():#Devuelve una de las cadenas posibles de X\n",
    "    prod_inicial1 = \"X\"\n",
    "    prod_sig1 = prod[prod_inicial1]\n",
    "    #print(prod_sig1)\n",
    "    producciones1 = prod_sig1.split(\"|\")\n",
    "\n",
    "    prod_sig1 = producciones1[calcularProbs(1).rvs()]\n",
    "    return prod_sig1"
   ]
  },
  {
   "cell_type": "code",
   "execution_count": 997,
   "metadata": {},
   "outputs": [
    {
     "name": "stdout",
     "output_type": "stream",
     "text": [
      "aY\n",
      "g\n"
     ]
    }
   ],
   "source": [
    "print(prod_random_X())\n",
    "print(prod_random_Y())"
   ]
  },
  {
   "cell_type": "code",
   "execution_count": 998,
   "metadata": {
    "collapsed": true
   },
   "outputs": [],
   "source": [
    "def prod_random_Y():#Devuelve una de las cadenas posibles de Y\n",
    "    prod_inicial2 = \"Y\"\n",
    "    prod_sig2 = prod[prod_inicial2]\n",
    "    producciones2 = prod_sig2.split(\"|\")\n",
    "\n",
    "    prod_sig2 = producciones2[calcularProbs(2).rvs()]\n",
    "    return prod_sig2"
   ]
  },
  {
   "cell_type": "code",
   "execution_count": 1025,
   "metadata": {
    "collapsed": true
   },
   "outputs": [],
   "source": [
    "def producir_recur(iteracion):\n",
    "    \n",
    "    sig_prod = prod[primer_prod]\n",
    "    if er_pipe.match(sig_prod):\n",
    "        #print(\"PRODUCCION\")\n",
    "        print(sig_prod)\n",
    "        if erX.match(sig_prod):\n",
    "            sig_prod = prod_random_X()\n",
    "            producir(sig_prod,primer_prod,iteracion)\n",
    "        elif erY.match(sig_prod):\n",
    "            sig_prod = prod_random_Y()\n",
    "            producir(sig_prod,primer_prod,iteracion)\n",
    "    \n",
    "    else:\n",
    "        #print(\"PRODUCCION\")\n",
    "        producir(sig_prod,primer_prod,iteracion)\n",
    "\n",
    "   "
   ]
  },
  {
   "cell_type": "code",
   "execution_count": 1026,
   "metadata": {},
   "outputs": [],
   "source": [
    "def producir(producciones, produccion_origen, iteraciones):\n",
    "   \n",
    "    ''' Caso Base profundidad alcanzada '''\n",
    "\n",
    "    if iteraciones == 0:\n",
    "        return\n",
    "\n",
    "    if not (er_pipe.match(producciones)):#averiguo si no tiene pipe\n",
    "        ''' Caso Base '''\n",
    "        for p in producciones:   \n",
    "            if (p not in terminales):\n",
    "                print(\"dibujar no Terminal {}\".format(p))\n",
    "                prod_sig = prod[p]\n",
    "                producir(prod_sig, p, iteraciones - 1)\n",
    "                \n",
    "            else:\n",
    "                ''' Caso Base Terminal '''\n",
    "                print(\"dibujar Terminal ({})\".format(p))\n",
    "                \n",
    "      #  if erX.match(producciones):#averiguo si preg probs de X\n",
    "      #      print(\"encontreX\")\n",
    "      #      producciones = prod_random_X()\n",
    "      #      producir(producciones,primer_prod,iteraciones-1)\n",
    "            \n",
    "      #  if erY.match(producciones):\n",
    "      #      print(\"Encontre Y\")\n",
    "      #      producciones = prod_random_Y()\n",
    "      #      producir(producciones,primer_prod,iteraciones-1)\n",
    "      #  return\n",
    "        #if erW.match(producciones):\n",
    "        #    producir(prod[primer_prod],primer_prod,iteraciones-1)\n",
    "    else:\n",
    "        if erY.match(producciones):#encontre un Y por lo tanto tengo que pedir probs de X.\n",
    "            producciones = prod_random_X()\n",
    "            producir(producciones,primer_prod,iteraciones-1)\n",
    "            return\n",
    "            \n",
    "        elif erZ.match(producciones):            \n",
    "            producciones = prod_random_Y()\n",
    "            producir(producciones,primer_prod,iteraciones -1)\n",
    "            return\n",
    "        return\n",
    "            "
   ]
  },
  {
   "cell_type": "code",
   "execution_count": 1029,
   "metadata": {},
   "outputs": [],
   "source": [
    "def prod_prod_rec(tope,ite):\n",
    "    a = 0\n",
    "    while a<tope:\n",
    "        print(\"PRODUCCION \",a)\n",
    "        producir_recur(ite)\n",
    "        a = a+1"
   ]
  },
  {
   "cell_type": "code",
   "execution_count": 1030,
   "metadata": {},
   "outputs": [
    {
     "name": "stdout",
     "output_type": "stream",
     "text": [
      "PRODUCCION  0\n",
      "dibujar no Terminal W\n",
      "dibujar Terminal (u)\n",
      "dibujar no Terminal X\n",
      "dibujar Terminal (g)\n",
      "dibujar no Terminal Z\n",
      "dibujar Terminal (a)\n",
      "PRODUCCION  1\n",
      "dibujar no Terminal W\n",
      "dibujar Terminal (u)\n",
      "dibujar no Terminal X\n",
      "dibujar Terminal (g)\n",
      "dibujar no Terminal Z\n",
      "dibujar Terminal (a)\n",
      "PRODUCCION  2\n",
      "dibujar no Terminal W\n",
      "dibujar Terminal (u)\n",
      "dibujar no Terminal X\n",
      "dibujar Terminal (a)\n",
      "dibujar no Terminal Y\n",
      "dibujar Terminal (g)\n",
      "PRODUCCION  3\n",
      "dibujar no Terminal W\n",
      "dibujar Terminal (u)\n",
      "dibujar no Terminal X\n",
      "dibujar Terminal (a)\n",
      "dibujar no Terminal Y\n",
      "dibujar Terminal (g)\n",
      "PRODUCCION  4\n",
      "dibujar no Terminal W\n",
      "dibujar Terminal (u)\n",
      "dibujar no Terminal X\n",
      "dibujar Terminal (g)\n",
      "dibujar no Terminal Z\n",
      "dibujar Terminal (a)\n",
      "PRODUCCION  5\n",
      "dibujar no Terminal W\n",
      "dibujar Terminal (u)\n",
      "dibujar no Terminal X\n",
      "dibujar Terminal (a)\n",
      "dibujar no Terminal Y\n",
      "dibujar Terminal (g)\n",
      "PRODUCCION  6\n",
      "dibujar no Terminal W\n",
      "dibujar Terminal (u)\n",
      "dibujar no Terminal X\n",
      "dibujar Terminal (g)\n",
      "dibujar no Terminal Z\n",
      "dibujar Terminal (a)\n",
      "PRODUCCION  7\n",
      "dibujar no Terminal W\n",
      "dibujar Terminal (u)\n",
      "dibujar no Terminal X\n",
      "dibujar Terminal (a)\n",
      "dibujar no Terminal Y\n",
      "dibujar Terminal (g)\n",
      "PRODUCCION  8\n",
      "dibujar no Terminal W\n",
      "dibujar Terminal (u)\n",
      "dibujar no Terminal X\n",
      "dibujar Terminal (g)\n",
      "dibujar no Terminal Z\n",
      "dibujar Terminal (a)\n",
      "PRODUCCION  9\n",
      "dibujar no Terminal W\n",
      "dibujar Terminal (u)\n",
      "dibujar no Terminal X\n",
      "dibujar Terminal (a)\n",
      "dibujar no Terminal Y\n",
      "dibujar Terminal (g)\n"
     ]
    }
   ],
   "source": [
    "prod_prod_rec(10,10)"
   ]
  }
 ],
 "metadata": {
  "kernelspec": {
   "display_name": "Python 3",
   "language": "python",
   "name": "python3"
  },
  "language_info": {
   "codemirror_mode": {
    "name": "ipython",
    "version": 3
   },
   "file_extension": ".py",
   "mimetype": "text/x-python",
   "name": "python",
   "nbconvert_exporter": "python",
   "pygments_lexer": "ipython3",
   "version": "3.6.1"
  }
 },
 "nbformat": 4,
 "nbformat_minor": 2
}
