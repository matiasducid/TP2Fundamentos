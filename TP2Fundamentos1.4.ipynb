{
 "cells": [
  {
   "cell_type": "code",
   "execution_count": 1,
   "metadata": {
    "collapsed": true
   },
   "outputs": [],
   "source": [
    "#zona imports.\n",
    "import re\n",
    "import networkx as nx\n",
    "from scipy import stats\n",
    "from scipy.stats import rv_discrete\n",
    "import matplotlib.pyplot as plt"
   ]
  },
  {
   "cell_type": "code",
   "execution_count": 2,
   "metadata": {
    "collapsed": true
   },
   "outputs": [],
   "source": [
    "er_pipe = re.compile('\\w+\\|\\w+')\n",
    "erX = re.compile('\\w*X')\n",
    "erY = re.compile('\\w*Y')\n",
    "erZ = re.compile('\\w*\\|\\w*')\n",
    "prim_er = re.compile('WuXaYg')\n",
    "seg_er = re.compile('WuXaYa')\n",
    "terc_er = re.compile('WuXgZa')\n"
   ]
  },
  {
   "cell_type": "code",
   "execution_count": 3,
   "metadata": {
    "collapsed": true
   },
   "outputs": [],
   "source": [
    "terminales = [\"u\",\"a\",\"g\"]\n"
   ]
  },
  {
   "cell_type": "code",
   "execution_count": 4,
   "metadata": {
    "collapsed": true
   },
   "outputs": [],
   "source": [
    "no_terminales =    [\"W\",\"X\",\"Y\",\"Z\"] "
   ]
  },
  {
   "cell_type": "code",
   "execution_count": 5,
   "metadata": {
    "collapsed": true
   },
   "outputs": [],
   "source": [
    "prod = {\n",
    "    \"S\" : \"W\",\n",
    "    \"W\" : \"uX\",\n",
    "    \"X\" : \"aY|gZ\",\n",
    "    \"Y\" : \"a|g\",\n",
    "    \"Z\" : \"a\"\n",
    "}"
   ]
  },
  {
   "cell_type": "code",
   "execution_count": 6,
   "metadata": {
    "collapsed": true
   },
   "outputs": [],
   "source": [
    "primer_prod = \"S\""
   ]
  },
  {
   "cell_type": "code",
   "execution_count": 7,
   "metadata": {
    "collapsed": true
   },
   "outputs": [],
   "source": [
    "xX =[0,1]\n",
    "pX = (0.7,0.3) \n",
    "\n",
    "xY = [0,1]\n",
    "pY = (0.2,0.8)"
   ]
  },
  {
   "cell_type": "code",
   "execution_count": 8,
   "metadata": {
    "collapsed": true
   },
   "outputs": [],
   "source": [
    "def calcularProbs(entrada):#Calcula las probabilidades de X o Y segun el argumento dado\n",
    "    if entrada == 1:\n",
    "        posibX = rv_discrete(name = 'X', values=([xX,pX]))\n",
    "        return posibX\n",
    "    elif entrada == 2:\n",
    "        posibY = rv_discrete(name = 'Y', values=([xY,pY]))\n",
    "        return posibY\n",
    "    "
   ]
  },
  {
   "cell_type": "code",
   "execution_count": 9,
   "metadata": {
    "collapsed": true
   },
   "outputs": [],
   "source": [
    "def prod_random_X():#Devuelve una de las cadenas posibles de X\n",
    "    prod_inicial1 = \"X\"\n",
    "    prod_sig1 = prod[prod_inicial1]\n",
    "    producciones1 = prod_sig1.split(\"|\")\n",
    "\n",
    "    prod_sig1 = producciones1[calcularProbs(1).rvs()]\n",
    "    return prod_sig1"
   ]
  },
  {
   "cell_type": "code",
   "execution_count": 10,
   "metadata": {
    "collapsed": true
   },
   "outputs": [],
   "source": [
    "def prod_random_Y():#Devuelve una de las cadenas posibles de Y\n",
    "    prod_inicial2 = \"Y\"\n",
    "    prod_sig2 = prod[prod_inicial2]\n",
    "    producciones2 = prod_sig2.split(\"|\")\n",
    "\n",
    "    prod_sig2 = producciones2[calcularProbs(2).rvs()]\n",
    "    return prod_sig2"
   ]
  },
  {
   "cell_type": "code",
   "execution_count": 11,
   "metadata": {
    "collapsed": true
   },
   "outputs": [],
   "source": [
    "def producir_recur(iteracion):\n",
    "    \n",
    "    sig_prod = prod[primer_prod]\n",
    "    if er_pipe.match(sig_prod):\n",
    "        print(sig_prod)\n",
    "        if erX.match(sig_prod):\n",
    "            sig_prod = prod_random_X()\n",
    "            producir(sig_prod,primer_prod,iteracion)\n",
    "        elif erY.match(sig_prod):\n",
    "            sig_prod = prod_random_Y()\n",
    "            producir(sig_prod,primer_prod,iteracion)\n",
    "    \n",
    "    else:\n",
    "        producir(sig_prod,primer_prod,iteracion)\n",
    "\n",
    "   "
   ]
  },
  {
   "cell_type": "code",
   "execution_count": 12,
   "metadata": {
    "collapsed": true
   },
   "outputs": [],
   "source": [
    "mi_cadena = ''\n",
    "mi_lista = []"
   ]
  },
  {
   "cell_type": "code",
   "execution_count": 13,
   "metadata": {
    "collapsed": true
   },
   "outputs": [],
   "source": [
    "def limpiar_lista(lista):\n",
    "    b = 0\n",
    "    while b<len(lista):\n",
    "        l = lista.pop()\n",
    "    return"
   ]
  },
  {
   "cell_type": "code",
   "execution_count": 14,
   "metadata": {},
   "outputs": [],
   "source": [
    "def llenar_cadena(lista):\n",
    "    var = 0\n",
    "    cadena = ''\n",
    "    while var < len(lista):\n",
    "        cadena = cadena + str(lista[var])\n",
    "        var = var+1\n",
    "    return cadena"
   ]
  },
  {
   "cell_type": "code",
   "execution_count": 15,
   "metadata": {
    "collapsed": true
   },
   "outputs": [],
   "source": [
    "def graph1():\n",
    "    \n",
    "    G=nx.Graph()\n",
    "    G.add_nodes_from([\"W\",\"u\",\"X\",\"a\",\"Y\",\"g\"])\n",
    "\n",
    "    G.add_edges_from([(\"W\",\"u\"),(\"W\",\"X\"),(\"X\",\"a\"), (\"X\",\"Y\"),(\"Y\",\"g\")])\n",
    "    nombres = {0:\"W\",1:\"u\",2:\"X\",3:\"a\",4:\"Y\",5:\"g\"}\n",
    "    H=nx.relabel_nodes(G,nombres)\n",
    "\n",
    "    nx.draw(H)\n",
    "    plt.show() # display"
   ]
  },
  {
   "cell_type": "code",
   "execution_count": 16,
   "metadata": {
    "collapsed": true
   },
   "outputs": [],
   "source": [
    "def graph2():\n",
    "    G=nx.Graph()\n",
    "    G.add_nodes_from([\"W\",\"u\",\"X\",\"a1\",\"Y\",\"a2\"])\n",
    "\n",
    "    G.add_edges_from([(\"W\",\"u\"),(\"W\",\"X\"),(\"X\",\"a1\"),(\"X\",\"Y\"),(\"Y\",\"a2\")])\n",
    "    nombres = {0:\"W\",1:\"u\",2:\"X\",3:\"a1\",4:\"Y\",5:\"a2\"}\n",
    "    H=nx.relabel_nodes(G,nombres,True)\n",
    "\n",
    "    nx.draw(H)\n",
    "    plt.show() # display"
   ]
  },
  {
   "cell_type": "code",
   "execution_count": 17,
   "metadata": {
    "collapsed": true
   },
   "outputs": [],
   "source": [
    "def graph3():\n",
    "    G=nx.Graph()\n",
    "    G.add_nodes_from([\"W\",\"u\",\"X\",\"g\",\"Z\",\"a\"])\n",
    "\n",
    "    G.add_edges_from([(\"W\",\"u\"),(\"W\",\"X\"),(\"X\",\"g\"), (\"X\",\"Z\"),(\"Z\",\"a\")])\n",
    "    nombres = {0:\"W\",1:\"u\",2:\"X\",3:\"g\",4:\"Z\",5:\"a\"}\n",
    "    H=nx.relabel_nodes(G,nombres)\n",
    "\n",
    "    nx.draw(H)\n",
    "    plt.show() # display"
   ]
  },
  {
   "cell_type": "code",
   "execution_count": 18,
   "metadata": {
    "collapsed": true
   },
   "outputs": [],
   "source": [
    "def producir(producciones, produccion_origen, iteraciones):\n",
    "   \n",
    "    ''' Caso Base profundidad alcanzada '''\n",
    "    if iteraciones == 0:\n",
    "        return\n",
    "\n",
    "    if not (er_pipe.match(producciones)):#averiguo si no tiene pipe\n",
    "        ''' Caso Base '''\n",
    "        for p in producciones:   \n",
    "            if (p not in terminales):\n",
    "                print(\"dibujar no Terminal {}\".format(p))\n",
    "                prod_sig = prod[p]\n",
    "                mi_lista.append(p)\n",
    "                producir(prod_sig, p, iteraciones - 1)\n",
    "                \n",
    "            else:\n",
    "                ''' Caso Base Terminal '''\n",
    "                mi_lista.append(p)\n",
    "                print(\"dibujar Terminal ({})\".format(p))\n",
    "\n",
    "    else:\n",
    "        if erY.match(producciones):#encontre un Y por lo tanto tengo que pedir probs de X.\n",
    "            producciones = prod_random_X()\n",
    "            producir(producciones,primer_prod,iteraciones)\n",
    "            return\n",
    "            \n",
    "        elif erZ.match(producciones):            \n",
    "            producciones = prod_random_Y()\n",
    "            producir(producciones,primer_prod,iteraciones )\n",
    "            return\n",
    "        return\n",
    "            "
   ]
  },
  {
   "cell_type": "code",
   "execution_count": 21,
   "metadata": {
    "collapsed": true
   },
   "outputs": [],
   "source": [
    "def prod_prod_rec(tope,ite):\n",
    "    a = 0\n",
    "   \n",
    "    while a<tope:\n",
    "        print(\"PRODUCCION \",a)\n",
    "        producir_recur(ite)\n",
    "        mi_cadena = llenar_cadena(mi_lista)\n",
    "        limpiar_lista(mi_lista)\n",
    "        if prim_er.match(mi_cadena):\n",
    "            graph1()\n",
    "        if seg_er.match(mi_cadena):\n",
    "            graph2()\n",
    "        if terc_er.match(mi_cadena):\n",
    "            graph3()\n",
    "        a = a+1"
   ]
  },
  {
   "cell_type": "code",
   "execution_count": 22,
   "metadata": {},
   "outputs": [
    {
     "name": "stdout",
     "output_type": "stream",
     "text": [
      "PRODUCCION  0\n",
      "dibujar no Terminal W\n",
      "dibujar Terminal (u)\n",
      "dibujar no Terminal X\n",
      "dibujar Terminal (a)\n",
      "dibujar no Terminal Y\n",
      "dibujar Terminal (g)\n"
     ]
    },
    {
     "name": "stderr",
     "output_type": "stream",
     "text": [
      "/home/mati/anaconda3/lib/python3.6/site-packages/networkx/drawing/nx_pylab.py:126: MatplotlibDeprecationWarning: pyplot.hold is deprecated.\n",
      "    Future behavior will be consistent with the long-time default:\n",
      "    plot commands add elements without first clearing the\n",
      "    Axes and/or Figure.\n",
      "  b = plt.ishold()\n",
      "/home/mati/anaconda3/lib/python3.6/site-packages/networkx/drawing/nx_pylab.py:138: MatplotlibDeprecationWarning: pyplot.hold is deprecated.\n",
      "    Future behavior will be consistent with the long-time default:\n",
      "    plot commands add elements without first clearing the\n",
      "    Axes and/or Figure.\n",
      "  plt.hold(b)\n",
      "/home/mati/anaconda3/lib/python3.6/site-packages/matplotlib/__init__.py:917: UserWarning: axes.hold is deprecated. Please remove it from your matplotlibrc and/or style files.\n",
      "  warnings.warn(self.msg_depr_set % key)\n",
      "/home/mati/anaconda3/lib/python3.6/site-packages/matplotlib/rcsetup.py:152: UserWarning: axes.hold is deprecated, will be removed in 3.0\n",
      "  warnings.warn(\"axes.hold is deprecated, will be removed in 3.0\")\n"
     ]
    },
    {
     "data": {
      "image/png": "[encoded data removed]",
      "text/plain": [
       "<matplotlib.figure.Figure at 0x7fd0d4895438>"
      ]
     },
     "metadata": {},
     "output_type": "display_data"
    },
    {
     "name": "stdout",
     "output_type": "stream",
     "text": [
      "PRODUCCION  1\n",
      "dibujar no Terminal W\n",
      "dibujar Terminal (u)\n",
      "dibujar no Terminal X\n",
      "dibujar Terminal (g)\n",
      "dibujar no Terminal Z\n",
      "dibujar Terminal (a)\n"
     ]
    },
    {
     "data": {
      "image/png": "[encoded data removed]",
      "text/plain": [
       "<matplotlib.figure.Figure at 0x7fd0d492bd68>"
      ]
     },
     "metadata": {},
     "output_type": "display_data"
    },
    {
     "name": "stdout",
     "output_type": "stream",
     "text": [
      "PRODUCCION  2\n",
      "dibujar no Terminal W\n",
      "dibujar Terminal (u)\n",
      "dibujar no Terminal X\n",
      "dibujar Terminal (a)\n",
      "dibujar no Terminal Y\n",
      "dibujar Terminal (a)\n"
     ]
    },
    {
     "data": {
      "image/png": "[encoded data removed]",
      "text/plain": [
       "<matplotlib.figure.Figure at 0x7fd0d72b54a8>"
      ]
     },
     "metadata": {},
     "output_type": "display_data"
    },
    {
     "name": "stdout",
     "output_type": "stream",
     "text": [
      "PRODUCCION  3\n",
      "dibujar no Terminal W\n",
      "dibujar Terminal (u)\n",
      "dibujar no Terminal X\n",
      "dibujar Terminal (a)\n",
      "dibujar no Terminal Y\n",
      "dibujar Terminal (g)\n"
     ]
    },
    {
     "data": {
      "image/png": "[encoded data removed]",
      "text/plain": [
       "<matplotlib.figure.Figure at 0x7fd0d48d7ac8>"
      ]
     },
     "metadata": {},
     "output_type": "display_data"
    },
    {
     "name": "stdout",
     "output_type": "stream",
     "text": [
      "PRODUCCION  4\n",
      "dibujar no Terminal W\n",
      "dibujar Terminal (u)\n",
      "dibujar no Terminal X\n",
      "dibujar Terminal (a)\n",
      "dibujar no Terminal Y\n",
      "dibujar Terminal (g)\n"
     ]
    },
    {
     "data": {
      "image/png": "[encoded data removed]",
      "text/plain": [
       "<matplotlib.figure.Figure at 0x7fd0d4a1ed30>"
      ]
     },
     "metadata": {},
     "output_type": "display_data"
    },
    {
     "name": "stdout",
     "output_type": "stream",
     "text": [
      "PRODUCCION  5\n",
      "dibujar no Terminal W\n",
      "dibujar Terminal (u)\n",
      "dibujar no Terminal X\n",
      "dibujar Terminal (a)\n",
      "dibujar no Terminal Y\n",
      "dibujar Terminal (g)\n"
     ]
    },
    {
     "data": {
      "image/png": "[encoded data removed]",
      "text/plain": [
       "<matplotlib.figure.Figure at 0x7fd0d4a8a3c8>"
      ]
     },
     "metadata": {},
     "output_type": "display_data"
    },
    {
     "name": "stdout",
     "output_type": "stream",
     "text": [
      "PRODUCCION  6\n",
      "dibujar no Terminal W\n",
      "dibujar Terminal (u)\n",
      "dibujar no Terminal X\n",
      "dibujar Terminal (a)\n",
      "dibujar no Terminal Y\n",
      "dibujar Terminal (g)\n"
     ]
    },
    {
     "data": {
      "image/png": "[encoded data removed]",
      "text/plain": [
       "<matplotlib.figure.Figure at 0x7fd0d4838e48>"
      ]
     },
     "metadata": {},
     "output_type": "display_data"
    },
    {
     "name": "stdout",
     "output_type": "stream",
     "text": [
      "\n"
     ]
    }
   ],
   "source": [
    "prod_prod_rec(7,5)\n",
    "print(mi_cadena)"
   ]
  }
 ],
 "metadata": {
  "kernelspec": {
   "display_name": "Python 3",
   "language": "python",
   "name": "python3"
  },
  "language_info": {
   "codemirror_mode": {
    "name": "ipython",
    "version": 3
   },
   "file_extension": ".py",
   "mimetype": "text/x-python",
   "name": "python",
   "nbconvert_exporter": "python",
   "pygments_lexer": "ipython3",
   "version": "3.6.1"
  }
 },
 "nbformat": 4,
 "nbformat_minor": 2
}
