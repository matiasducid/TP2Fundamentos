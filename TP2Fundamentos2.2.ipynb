{
 "cells": [
  {
   "cell_type": "code",
   "execution_count": 1,
   "metadata": {
    "collapsed": true
   },
   "outputs": [],
   "source": [
    "#zona imports.\n",
    "import re\n",
    "from graphviz import Digraph\n",
    "from scipy import stats\n",
    "from scipy.stats import rv_discrete\n",
    "import networkx as nx\n",
    "import matplotlib.pyplot as plt\n",
    "from networkx.drawing.nx_agraph import graphviz_layout"
   ]
  },
  {
   "cell_type": "code",
   "execution_count": 2,
   "metadata": {
    "collapsed": true
   },
   "outputs": [],
   "source": [
    "terminales = [\"u\",\"a\",\"g\",\"i\",\"j\",\"k\",\"b\",\"c\",\"d\",\"e\",\"f\",\"x\"]#AGREGAR PARA NUEVAS PRODUCCIONES"
   ]
  },
  {
   "cell_type": "code",
   "execution_count": 3,
   "metadata": {
    "collapsed": true
   },
   "outputs": [],
   "source": [
    "no_terminales = [\"W\",\"X\",\"Y\",\"Z\",\"A\",\"C\"] #AGREGAR PARA NUEVAS PRODUCCIONES"
   ]
  },
  {
   "cell_type": "code",
   "execution_count": 4,
   "metadata": {},
   "outputs": [],
   "source": [
    "#AGREGAR PARA NUEVAS PRODUCCIONES\n",
    "#Guardo la produccion con su objeto probabilistico listo para aplicarle .rvs()\n",
    "prod = {\n",
    "    \"S\" : [[\"W\"],rv_discrete(\"W\",values=([[0,1],(1.0,0)]))],\n",
    "    \"W\" : [[\"uX\"],rv_discrete(\"uX\",values = ([[0,1],(1.0,0)]))],\n",
    "    \"X\" : [[\"xY\",\"cZ\"],rv_discrete(\"prodX\",values = ([[0,1],(0.7,0.3)]))],\n",
    "    \"Y\" : [[\"a\",\"b\"],rv_discrete(\"prodY\",values = ([[0,1],(0.2,0.8)]))],\n",
    "    \"Z\" : [[\"gAB\",\"dg\"],rv_discrete(\"prodZ\",values = ([[0,1],(0.5,0.5)]))],\n",
    "    \"A\" : [[\"ijk\",\"kiC\"],rv_discrete(\"prodA\",values = ([[0,1],(0.6,0.4)]))],\n",
    "    \"B\" : [[\"eB\"],rv_discrete(\"prodB\",values = ([[0,1],(1.0,0)]))],\n",
    "    \"C\" : [[\"fA\"],rv_discrete(\"prodC\",values = ([[0,1],(1.0,0)]))]\n",
    "    \n",
    "}"
   ]
  },
  {
   "cell_type": "code",
   "execution_count": 5,
   "metadata": {
    "collapsed": true
   },
   "outputs": [],
   "source": [
    "primer_prod = \"S\""
   ]
  },
  {
   "cell_type": "code",
   "execution_count": 6,
   "metadata": {
    "collapsed": true
   },
   "outputs": [],
   "source": [
    "def producir(producciones, produccion_origen,G, iteraciones):\n",
    "    ''' Caso Base profundidad alcanzada '''\n",
    "    if iteraciones == 0:\n",
    "        print(\"Profundidad pedida alcanzada.\")\n",
    "        return\n",
    "    \n",
    "    ''' Caso Base '''\n",
    "    for p in producciones:\n",
    "        \n",
    "        G.add_node(p)\n",
    "        G.add_edge(produccion_origen,p)\n",
    "       \n",
    "        if (p not in terminales):\n",
    "            print(\"dibujar no Terminal {}\".format(p))\n",
    "                \n",
    "            valores = prod.get(p)#Obtengo los valores posibles de la produccion.\n",
    "            prob_result = valores[1].rvs()#Obtengo un int que es el indice de las prob values posibles.\n",
    "            prob_posib = valores[0]#Obtengo las posibles producciones de esta produccion\n",
    "            produc = prob_posib[prob_result]#Obtengo la produccion desde la posibilidad dada.\n",
    "            \n",
    "            producir(produc,p,G,iteraciones-1)\n",
    "        else:\n",
    "            ''' Caso Base Terminal '''\n",
    "\n",
    "            print(\"dibujar Terminal ({})\".format(p))"
   ]
  },
  {
   "cell_type": "code",
   "execution_count": 7,
   "metadata": {
    "collapsed": true
   },
   "outputs": [],
   "source": [
    "#####\n",
    "#####\n",
    "def producir_recur(ite):\n",
    "    G=nx.DiGraph()\n",
    "\n",
    "    sig_prod = prod[primer_prod]\n",
    "    producir(sig_prod[0],primer_prod,G,ite)\n",
    "    plt.title('Árbol de Producción')\n",
    "    pos = graphviz_layout(G,prog='dot')\n",
    "    nx.draw(G, pos, with_labels=True, arrows=True)\n",
    "    plt.show() # display\n"
   ]
  },
  {
   "cell_type": "code",
   "execution_count": 8,
   "metadata": {},
   "outputs": [
    {
     "name": "stdout",
     "output_type": "stream",
     "text": [
      "dibujar no Terminal W\n",
      "dibujar Terminal (u)\n",
      "dibujar no Terminal X\n",
      "dibujar Terminal (c)\n",
      "dibujar no Terminal Z\n",
      "dibujar Terminal (d)\n",
      "dibujar Terminal (g)\n"
     ]
    },
    {
     "name": "stderr",
     "output_type": "stream",
     "text": [
      "/home/mati/anaconda3/lib/python3.6/site-packages/networkx/drawing/nx_pylab.py:126: MatplotlibDeprecationWarning: pyplot.hold is deprecated.\n",
      "    Future behavior will be consistent with the long-time default:\n",
      "    plot commands add elements without first clearing the\n",
      "    Axes and/or Figure.\n",
      "  b = plt.ishold()\n",
      "/home/mati/anaconda3/lib/python3.6/site-packages/networkx/drawing/nx_pylab.py:138: MatplotlibDeprecationWarning: pyplot.hold is deprecated.\n",
      "    Future behavior will be consistent with the long-time default:\n",
      "    plot commands add elements without first clearing the\n",
      "    Axes and/or Figure.\n",
      "  plt.hold(b)\n",
      "/home/mati/anaconda3/lib/python3.6/site-packages/matplotlib/__init__.py:917: UserWarning: axes.hold is deprecated. Please remove it from your matplotlibrc and/or style files.\n",
      "  warnings.warn(self.msg_depr_set % key)\n",
      "/home/mati/anaconda3/lib/python3.6/site-packages/matplotlib/rcsetup.py:152: UserWarning: axes.hold is deprecated, will be removed in 3.0\n",
      "  warnings.warn(\"axes.hold is deprecated, will be removed in 3.0\")\n"
     ]
    },
    {
     "data": {
      "image/png": "[encoded data removed]",
      "text/plain": [
       "<matplotlib.figure.Figure at 0x7f7f77c518d0>"
      ]
     },
     "metadata": {},
     "output_type": "display_data"
    }
   ],
   "source": [
    "producir_recur(8)"
   ]
  },
  {
   "cell_type": "code",
   "execution_count": null,
   "metadata": {
    "collapsed": true
   },
   "outputs": [],
   "source": []
  }
 ],
 "metadata": {
  "kernelspec": {
   "display_name": "Python 3",
   "language": "python",
   "name": "python3"
  },
  "language_info": {
   "codemirror_mode": {
    "name": "ipython",
    "version": 3
   },
   "file_extension": ".py",
   "mimetype": "text/x-python",
   "name": "python",
   "nbconvert_exporter": "python",
   "pygments_lexer": "ipython3",
   "version": "3.6.1"
  }
 },
 "nbformat": 4,
 "nbformat_minor": 2
}
